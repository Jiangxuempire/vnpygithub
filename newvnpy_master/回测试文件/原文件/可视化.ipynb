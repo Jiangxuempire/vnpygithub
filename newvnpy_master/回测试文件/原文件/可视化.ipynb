{
 "metadata": {
  "language_info": {
   "codemirror_mode": {
    "name": "ipython",
    "version": 3
   },
   "file_extension": ".py",
   "mimetype": "text/x-python",
   "name": "python",
   "nbconvert_exporter": "python",
   "pygments_lexer": "ipython3",
   "version": "3.7.1-final"
  },
  "orig_nbformat": 2,
  "kernelspec": {
   "name": "python37164bitc29b24801ba749f5a36077b97af263f2",
   "display_name": "Python 3.7.1 64-bit"
  }
 },
 "nbformat": 4,
 "nbformat_minor": 2,
 "cells": [
  {
   "cell_type": "code",
   "execution_count": 5,
   "metadata": {},
   "outputs": [],
   "source": [
    "from mpl_finance import candlestick2_ohlc\n",
    "import matplotlib.pyplot as plt\n",
    "import matplotlib.ticker as ticker\n",
    "import matplotlib.gridspec as gridspec\n",
    "import datetime as datetime\n",
    "import numpy as np\n",
    "import pandas as pd\n",
    "import math\n",
    "from datetime import datetime\n",
    "from pytz import timezone\n",
    "import talib as ta\n",
    "pd.set_option('expand_frame_repr', False)  # 当列太多时清楚展示"
   ]
  },
  {
   "cell_type": "code",
   "execution_count": 6,
   "metadata": {},
   "outputs": [],
   "source": [
    "from vnpy.app.cta_strategy.backtesting import BacktestingEngine"
   ]
  },
  {
   "cell_type": "code",
   "execution_count": 7,
   "metadata": {},
   "outputs": [],
   "source": [
    "from vnpy.trader.constant import Interval, Direction, Offset"
   ]
  },
  {
   "cell_type": "code",
   "execution_count": 8,
   "metadata": {},
   "outputs": [],
   "source": [
    "from visualization_strategy.aberration_bias_strategy import AberrationBiasStrategy"
   ]
  },
  {
   "cell_type": "code",
   "execution_count": 9,
   "metadata": {},
   "outputs": [
    {
     "output_type": "stream",
     "name": "stdout",
     "text": [
      "2020-10-11 22:02:23.912602\t开始加载历史数据\n",
      "2020-10-11 22:02:24.471728\t加载进度：########## [100%]\n",
      "2020-10-11 22:02:24.472728\t历史数据加载完成，数据量：24356\n",
      "2020-10-11 22:02:24.510736\t策略初始化完成\n",
      "2020-10-11 22:02:24.510736\t开始回放历史数据\n",
      "2020-10-11 22:02:24.595755\t历史数据回放结束\n",
      "2020-10-11 22:02:24.595755\t开始计算逐日盯市盈亏\n",
      "2020-10-11 22:02:24.597756\t逐日盯市盈亏计算完成\n",
      "2020-10-11 22:02:24.597756\t开始计算策略统计指标\n",
      "2020-10-11 22:02:24.606758\t------------------------------\n",
      "2020-10-11 22:02:24.606758\t首个交易日：\t2018-01-10\n",
      "2020-10-11 22:02:24.606758\t最后交易日：\t2018-01-18\n",
      "2020-10-11 22:02:24.606758\t总交易日：\t9\n",
      "2020-10-11 22:02:24.606758\t盈利交易日：\t2\n",
      "2020-10-11 22:02:24.606758\t亏损交易日：\t6\n",
      "2020-10-11 22:02:24.606758\t起始资金：\t1,000,000.00\n",
      "2020-10-11 22:02:24.606758\t结束资金：\t1,019,604.67\n",
      "2020-10-11 22:02:24.606758\t总收益率：\t1.96%\n",
      "2020-10-11 22:02:24.606758\t年化收益：\t52.28%\n",
      "2020-10-11 22:02:24.606758\t最大回撤: \t-490,215.64\n",
      "2020-10-11 22:02:24.606758\t百分比最大回撤: -51.39%\n",
      "2020-10-11 22:02:24.606758\t最长回撤天数: \t4\n",
      "2020-10-11 22:02:24.606758\t总盈亏：\t19,604.67\n",
      "2020-10-11 22:02:24.606758\t总手续费：\t6,588.33\n",
      "2020-10-11 22:02:24.606758\t总滑点：\t4,200.00\n",
      "2020-10-11 22:02:24.606758\t总成交金额：\t219,611,031.00\n",
      "2020-10-11 22:02:24.606758\t总成交笔数：\t70\n",
      "2020-10-11 22:02:24.606758\t日均盈亏：\t2,178.30\n",
      "2020-10-11 22:02:24.606758\t日均手续费：\t732.04\n",
      "2020-10-11 22:02:24.606758\t日均滑点：\t466.67\n",
      "2020-10-11 22:02:24.606758\t日均成交金额：\t24,401,225.67\n",
      "2020-10-11 22:02:24.606758\t日均成交笔数：\t7.777777777777778\n",
      "2020-10-11 22:02:24.606758\t日均收益率：\t3.65%\n",
      "2020-10-11 22:02:24.606758\t收益标准差：\t40.54%\n",
      "2020-10-11 22:02:24.606758\tSharpe Ratio：\t1.40\n",
      "2020-10-11 22:02:24.606758\t收益回撤比：\t0.04\n",
      "2020-10-11 22:02:24.607758\t策略统计指标计算完成\n"
     ]
    },
    {
     "output_type": "execute_result",
     "data": {
      "text/plain": [
       "{'start_date': datetime.date(2018, 1, 10),\n",
       " 'end_date': datetime.date(2018, 1, 18),\n",
       " 'total_days': 9,\n",
       " 'profit_days': 2,\n",
       " 'loss_days': 6,\n",
       " 'capital': 1000000,\n",
       " 'end_balance': 1019604.6690699998,\n",
       " 'max_drawdown': -490215.6425999998,\n",
       " 'max_ddpercent': -51.38840111019331,\n",
       " 'max_drawdown_duration': 4,\n",
       " 'total_net_pnl': 19604.669069999887,\n",
       " 'daily_net_pnl': 2178.2965633333206,\n",
       " 'total_commission': 6588.330929999999,\n",
       " 'daily_commission': 732.0367699999999,\n",
       " 'total_slippage': 4200.0,\n",
       " 'daily_slippage': 466.6666666666667,\n",
       " 'total_turnover': 219611031.0,\n",
       " 'daily_turnover': 24401225.666666668,\n",
       " 'total_trade_count': 70,\n",
       " 'daily_trade_count': 7.777777777777778,\n",
       " 'total_return': 1.9604669069999803,\n",
       " 'annual_return': 52.279117519999474,\n",
       " 'daily_return': 3.6520364352367087,\n",
       " 'return_std': 40.543234432326294,\n",
       " 'sharpe_ratio': 1.3954758658462467,\n",
       " 'return_drawdown_ratio': 0.03814998841462506}"
      ]
     },
     "metadata": {},
     "execution_count": 9
    }
   ],
   "source": [
    "engine = BacktestingEngine()\n",
    "engine.set_parameters(\n",
    "    vt_symbol=\"btcusdt.BINANCE\",\n",
    "    interval=\"1m\",\n",
    "    start=datetime(2018, 1, 1),\n",
    "    end=datetime(2018, 1, 18),\n",
    "    rate=0.3 / 10000,\n",
    "    slippage=0.2,\n",
    "    size=300,\n",
    "    pricetick=0.2,\n",
    "    capital=1_000_000,\n",
    ")\n",
    "engine.add_strategy(AberrationBiasStrategy, {})\n",
    "\n",
    "engine.load_data()\n",
    "engine.run_backtesting()\n",
    "df = engine.calculate_result()\n",
    "engine.calculate_statistics()"
   ]
  },
  {
   "cell_type": "code",
   "execution_count": 10,
   "metadata": {},
   "outputs": [
    {
     "output_type": "stream",
     "name": "stdout",
     "text": [
      "             candle_begin_time      open      high       low     close    volume       boll_up     boll_down      boll_mid  boll_mid_new signal\n0    2018-01-07 00:15:00+08:00  16881.10  16930.00  16800.00  16930.00  16800.00  17168.555632  13241.266922  15204.911277  15208.082687   None\n1    2018-01-07 00:30:00+08:00  16929.99  17086.46  16928.01  17005.47  16928.01  17177.317509  13246.496321  15211.906915  15215.173241   None\n2    2018-01-07 00:45:00+08:00  17021.00  17028.66  16921.31  16921.31  16921.31  17185.183431  13252.423208  15218.803319  15222.144009   None\n3    2018-01-07 01:00:00+08:00  16931.16  17005.24  16792.01  16854.00  16792.01  17192.341867  13258.890218  15225.616043  15229.051876   None\n4    2018-01-07 01:15:00+08:00  16854.00  16990.00  16844.98  16945.01  16844.98  17200.017591  13265.388112  15232.702851  15236.222431   None\n5    2018-01-07 01:30:00+08:00  16965.94  17017.77  16936.00  16989.99  16936.00  17207.861729  13272.045973  15239.953851  15243.692921   None\n6    2018-01-07 01:45:00+08:00  16985.36  16989.99  16881.01  16924.02  16881.01  17214.713051  13279.823119  15247.268085  15250.993603   None\n7    2018-01-07 02:00:00+08:00  16924.00  16924.01  16850.09  16882.20  16850.09  17221.200823  13287.727687  15254.464255  15258.222687   None\n8    2018-01-07 02:15:00+08:00  16882.18  16882.19  16765.87  16839.01  16765.87  17227.235434  13295.936693  15261.586064  15265.732985   None\n9    2018-01-07 02:30:00+08:00  16839.01  16840.01  16711.00  16755.01  16711.00  17231.782904  13306.020415  15268.901660  15272.881002   None\n10   2018-01-07 02:45:00+08:00  16762.50  16796.84  16710.02  16758.99  16710.02  17236.663397  13315.422475  15276.042936  15280.043028   None\n11   2018-01-07 03:00:00+08:00  16749.04  16800.00  16745.05  16779.89  16745.05  17241.599070  13324.869313  15283.234191  15287.385203   None\n12   2018-01-07 03:15:00+08:00  16770.00  16770.00  16605.01  16630.00  16605.01  17245.084462  13335.399198  15290.241830  15294.224243   None\n13   2018-01-07 03:30:00+08:00  16627.00  16690.00  16620.86  16683.82  16620.86  17249.254898  13345.106761  15297.180830  15301.972175   None\n14   2018-01-07 03:45:00+08:00  16651.00  16742.92  16650.00  16700.00  16650.00  17251.521497  13358.371907  15304.946702  15309.712026   None\n15   2018-01-07 04:00:00+08:00  16700.00  16720.00  16660.01  16660.01  16660.01  17253.509835  13371.660165  15312.585000  15317.212687   None\n16   2018-01-07 04:15:00+08:00  16661.79  16679.78  16535.01  16537.94  16535.01  17254.983858  13384.636099  15319.809979  15324.329893   None\n17   2018-01-07 04:30:00+08:00  16537.94  16549.99  16400.00  16498.00  16400.00  17256.420198  13397.233930  15326.827064  15331.370896   None\n18   2018-01-07 04:45:00+08:00  16509.97  16650.00  16470.02  16631.03  16470.02  17258.603726  13409.668529  15334.136128  15338.771876   None\n19   2018-01-07 05:00:00+08:00  16644.23  16744.94  16593.19  16645.42  16593.19  17260.578965  13422.524992  15341.551979  15346.195522   None\n20   2018-01-07 05:15:00+08:00  16645.41  16686.00  16500.00  16600.83  16500.00  17262.167671  13435.562244  15348.864957  15353.663348   None\n21   2018-01-07 05:30:00+08:00  16600.83  16607.32  16522.54  16579.98  16522.54  17263.124654  13449.420409  15356.272532  15360.829616   None\n22   2018-01-07 05:45:00+08:00  16565.01  16606.50  16500.00  16540.99  16500.00  17264.421641  13462.259550  15363.340596  15367.733603   None\n23   2018-01-07 06:00:00+08:00  16540.99  16683.44  16531.93  16570.00  16531.93  17266.268154  13474.315080  15370.291617  15374.799595   None\n24   2018-01-07 06:15:00+08:00  16579.95  16640.00  16509.67  16638.99  16509.67  17268.214227  13486.764496  15377.489362  15382.215352   None\n25   2018-01-07 06:30:00+08:00  16600.30  16639.00  16490.48  16499.00  16490.48  17268.598032  13500.584947  15384.591489  15389.132196   None\n26   2018-01-07 06:45:00+08:00  16498.99  16500.00  16400.00  16450.01  16400.00  17269.125342  13513.653424  15391.389383  15395.867697   None\n27   2018-01-07 07:00:00+08:00  16464.50  16529.99  16409.71  16521.42  16409.71  17270.195133  13526.329845  15398.262489  15402.651194   None\n28   2018-01-07 07:15:00+08:00  16504.99  16598.99  16476.01  16563.11  16476.01  17271.702059  13538.538452  15405.120255  15409.418891   None\n29   2018-01-07 07:30:00+08:00  16564.98  16680.00  16560.99  16630.00  16560.99  17273.815317  13550.216428  15412.015872  15416.391365   None\n...                        ...       ...       ...       ...       ...       ...           ...           ...           ...           ...    ...\n1024 2018-01-17 16:15:00+08:00   9643.97  10100.00   9634.15   9750.00   9634.15  15445.310242  10324.203205  12884.756723  12883.512623   None\n1025 2018-01-17 16:30:00+08:00   9799.94  10175.00   9678.09   9965.01   9678.09  15448.815225  10305.790860  12877.303043  12875.834563   None\n1026 2018-01-17 16:45:00+08:00   9965.00  10349.95   9900.99  10000.00   9900.99  15451.631704  10287.799828  12869.715766  12867.826034   None\n1027 2018-01-17 17:00:00+08:00  10000.00  10299.93   9800.00  10082.04   9800.00  15453.085476  10270.712184  12861.898830  12860.060661   None\n1028 2018-01-17 17:15:00+08:00  10065.00  10100.00   9550.00   9568.21   9550.00  15457.601996  10248.511451  12853.056723  12851.237058   None\n1029 2018-01-17 17:30:00+08:00   9567.49   9900.00   9500.45   9830.01   9500.45  15460.418653  10229.199177  12844.808915  12842.718955   None\n1030 2018-01-17 17:45:00+08:00   9821.08   9980.00   9710.00   9710.08   9710.00  15463.273406  10208.834126  12836.053766  12832.072051   None\n1031 2018-01-17 18:00:00+08:00   9720.01   9870.20   9649.04   9650.00   9649.04  15466.564062  10187.973257  12827.268660  12825.287249   None\n1032 2018-01-17 18:15:00+08:00   9649.04   9799.99   9620.03   9799.98   9620.03  15468.920977  10168.779874  12818.850426  12814.749380   None\n1033 2018-01-17 18:30:00+08:00   9779.00   9810.00   9663.00   9738.00   9663.00  15471.465656  10149.099025  12810.282340  12808.189147   None\n1034 2018-01-17 18:45:00+08:00   9738.00   9884.98   9640.00   9850.03   9640.00  15473.118584  10130.671799  12801.895191  12798.046838   None\n1035 2018-01-17 19:00:00+08:00   9850.06  10000.00   9800.00   9966.02   9800.00  15474.193135  10113.461206  12793.827170  12792.008401   None\n1036 2018-01-17 19:15:00+08:00   9982.99  10200.00   9907.02  10149.98   9907.02  15474.760614  10098.013513  12786.387064  12784.417740   None\n1037 2018-01-17 19:30:00+08:00  10149.98  10380.00   9961.06  10270.01   9961.06  15474.424971  10083.710901  12779.067936  12777.253582   None\n1038 2018-01-17 19:45:00+08:00  10270.09  10600.83  10181.89  10374.97  10181.89  15473.927958  10070.356723  12772.142340  12770.257804   None\n1039 2018-01-17 20:00:00+08:00  10374.97  10827.68  10360.02  10774.83  10360.02  15471.864939  10060.159487  12766.012213  12764.086887   None\n1040 2018-01-17 20:15:00+08:00  10774.83  10997.00  10502.00  10560.91  10502.00  15470.376313  10048.422240  12759.399277  12757.244478   None\n1041 2018-01-17 20:30:00+08:00  10599.01  11080.00  10550.00  11050.83  10550.00  15466.982823  10040.244794  12753.613809  12751.499424   None\n1042 2018-01-17 20:45:00+08:00  11059.01  11077.49  10601.19  10799.98  10601.19  15464.289657  10030.404853  12747.347255  12745.346588   None\n1043 2018-01-17 21:00:00+08:00  10799.97  10900.00  10570.31  10650.10  10570.31  15462.265605  10019.511629  12740.888617  12738.611301   None\n1044 2018-01-17 21:15:00+08:00  10650.11  11250.00  10650.08  11230.00  10650.08  15458.206637  10012.596341  12735.401489  12733.102836   None\n1045 2018-01-17 21:30:00+08:00  11230.00  11487.00  11001.00  11229.99  11001.00  15454.089143  10005.720304  12729.904723  12727.699808   None\n1046 2018-01-17 21:45:00+08:00  11220.00  11540.91  11113.78  11524.86  11113.78  15449.795747  10000.485402  12725.140574  12722.273070   None\n1047 2018-01-17 22:00:00+08:00  11524.86  11680.99  10849.00  11000.00  10849.00  15444.714970   9992.502349  12718.608660  12715.592260   None\n1048 2018-01-17 22:15:00+08:00  10999.99  11200.00  10600.00  10921.67  10600.00  15439.405729   9984.145080  12711.775404  12708.968998   None\n1049 2018-01-17 22:30:00+08:00  10921.66  10950.00  10551.00  10768.42  10551.00  15435.023961   9974.656380  12704.840170  12701.697079   None\n1050 2018-01-17 22:45:00+08:00  10768.42  10799.00  10509.75  10581.21  10509.75  15430.283046   9964.087762  12697.185404  12693.987527   None\n1051 2018-01-17 23:00:00+08:00  10581.21  10999.00  10351.02  10960.44  10351.02  15424.335629   9956.262626  12690.299128  12687.300405   None\n1052 2018-01-17 23:15:00+08:00  10987.39  11100.00  10702.03  11099.56  10702.03  15418.631080   9949.213388  12683.922234  12680.774947   None\n1053 2018-01-17 23:30:00+08:00  11067.49  11150.00  10820.04  10830.00  10820.04  15413.101649   9940.572606  12676.837128  12673.736503   None\n\n[1054 rows x 11 columns]\n"
     ]
    }
   ],
   "source": [
    "#   获取策略指标数据\n",
    "df_ar = pd.DataFrame()\n",
    "df_ar[\"candle_begin_time\"] = engine.strategy.plot_echarts['datetime']\n",
    "df_ar[\"open\"] = engine.strategy.plot_echarts[\"open\"]\n",
    "df_ar[\"high\"] = engine.strategy.plot_echarts[\"high\"]\n",
    "df_ar[\"low\"] = engine.strategy.plot_echarts[\"low\"]\n",
    "df_ar[\"close\"] = engine.strategy.plot_echarts[\"close\"]\n",
    "df_ar[\"volume\"] = engine.strategy.plot_echarts[\"volume\"]\n",
    "df_ar[\"boll_up\"] = engine.strategy.plot_echarts[\"boll_up\"]\n",
    "df_ar[\"boll_down\"] = engine.strategy.plot_echarts[\"boll_down\"]\n",
    "df_ar[\"boll_mid\"] = engine.strategy.plot_echarts[\"boll_mid\"]\n",
    "df_ar[\"boll_mid_new\"] = engine.strategy.plot_echarts[\"boll_mid_new\"]\n",
    "# df_ar[\"bias\"] = engine.strategy.plot_echarts[\"bias\"]\n",
    "# df_ar[\"bias_value\"] = engine.strategy.plot_echarts[\"bias_value\"]\n",
    "df_ar[\"signal\"] = None\n",
    "print(df_ar)"
   ]
  },
  {
   "cell_type": "code",
   "execution_count": 11,
   "metadata": {
    "tags": []
   },
   "outputs": [
    {
     "output_type": "stream",
     "name": "stdout",
     "text": [
      "              candle_begin_time      open      high       low     close     volume\n0     2017-12-31 23:54:00+08:00  13715.65  13715.65  13681.00  13707.92   2.844266\n1     2017-12-31 23:55:00+08:00  13707.91  13707.91  13666.11  13694.92   2.113138\n2     2017-12-31 23:56:00+08:00  13682.00  13694.94  13680.00  13680.00   1.346411\n3     2017-12-31 23:57:00+08:00  13679.98  13679.98  13601.00  13645.99  11.589417\n4     2017-12-31 23:58:00+08:00  13645.98  13646.00  13576.28  13600.00  15.724566\n5     2017-12-31 23:59:00+08:00  13600.00  13600.00  13554.44  13568.00   6.395223\n6     2018-01-01 00:00:00+08:00  13568.00  13569.99  13520.00  13533.68   6.348072\n7     2018-01-01 00:01:00+08:00  13554.00  13554.00  13501.01  13530.00   7.057208\n8     2018-01-01 00:02:00+08:00  13514.53  13575.00  13504.99  13575.00  16.240707\n9     2018-01-01 00:03:00+08:00  13539.99  13575.00  13539.99  13554.58   4.487469\n10    2018-01-01 00:04:00+08:00  13554.58  13569.97  13530.00  13530.12   3.737071\n11    2018-01-01 00:05:00+08:00  13554.58  13560.89  13400.01  13515.26  22.471499\n12    2018-01-01 00:06:00+08:00  13515.26  13533.77  13485.41  13499.98   3.070026\n13    2018-01-01 00:07:00+08:00  13499.98  13530.00  13473.47  13530.00   4.423037\n14    2018-01-01 00:08:00+08:00  13500.35  13568.66  13500.35  13556.15  15.767903\n15    2018-01-01 00:09:00+08:00  13533.75  13547.73  13505.00  13520.00   3.475289\n16    2018-01-01 00:10:00+08:00  13505.15  13519.99  13450.39  13499.96   6.977856\n17    2018-01-01 00:11:00+08:00  13479.59  13479.59  13402.00  13440.03   9.154044\n18    2018-01-01 00:12:00+08:00  13440.01  13461.23  13402.01  13440.00   5.770208\n19    2018-01-01 00:13:00+08:00  13438.93  13458.96  13420.81  13430.52   7.348217\n20    2018-01-01 00:14:00+08:00  13440.01  13459.99  13414.18  13440.01   7.832406\n21    2018-01-01 00:15:00+08:00  13458.97  13459.00  13440.01  13440.02   2.830399\n22    2018-01-01 00:16:00+08:00  13440.02  13450.00  13410.44  13440.00   3.308798\n23    2018-01-01 00:17:00+08:00  13440.00  13450.00  13410.44  13440.01   5.040089\n24    2018-01-01 00:18:00+08:00  13440.01  13449.95  13412.05  13439.94   7.602443\n25    2018-01-01 00:19:00+08:00  13439.94  13459.00  13420.05  13459.00   3.414243\n26    2018-01-01 00:20:00+08:00  13459.00  13500.06  13440.09  13499.77   9.079720\n27    2018-01-01 00:21:00+08:00  13499.77  13550.87  13472.61  13530.89  10.831703\n28    2018-01-01 00:22:00+08:00  13521.48  13521.48  13499.77  13521.24   5.727328\n29    2018-01-01 00:23:00+08:00  13511.83  13521.24  13475.35  13521.12   9.743687\n...                         ...       ...       ...       ...       ...        ...\n24326 2018-01-17 23:25:00+08:00  10810.01  10850.00  10780.67  10850.00  37.106041\n24327 2018-01-17 23:26:00+08:00  10848.01  10900.00  10837.99  10855.01  54.105385\n24328 2018-01-17 23:27:00+08:00  10855.01  10950.02  10800.06  10880.04  50.206285\n24329 2018-01-17 23:28:00+08:00  10880.05  10992.08  10880.05  10990.00  42.702978\n24330 2018-01-17 23:29:00+08:00  10987.99  11100.00  10972.00  11099.56  72.431957\n24331 2018-01-17 23:30:00+08:00  11067.49  11150.00  11050.43  11100.00  87.938548\n24332 2018-01-17 23:31:00+08:00  11100.00  11145.00  11012.02  11030.02  85.378690\n24333 2018-01-17 23:32:00+08:00  11030.08  11060.00  10827.48  10910.05  61.492908\n24334 2018-01-17 23:33:00+08:00  10970.00  11074.17  10900.00  11050.02  46.604785\n24335 2018-01-17 23:34:00+08:00  11050.02  11097.00  11025.01  11094.00  50.698328\n24336 2018-01-17 23:35:00+08:00  11093.53  11145.00  11050.02  11070.00  62.401115\n24337 2018-01-17 23:36:00+08:00  11069.00  11075.18  11030.00  11037.07  46.235862\n24338 2018-01-17 23:37:00+08:00  11069.96  11090.11  11039.01  11090.11  45.552246\n24339 2018-01-17 23:38:00+08:00  11090.11  11100.00  11050.06  11061.73  39.084530\n24340 2018-01-17 23:39:00+08:00  11050.07  11089.91  11050.05  11070.01  40.287893\n24341 2018-01-17 23:40:00+08:00  11070.01  11100.08  11005.02  11030.09  72.941847\n24342 2018-01-17 23:41:00+08:00  11049.99  11049.99  10820.04  10820.04  50.746225\n24343 2018-01-17 23:42:00+08:00  10900.00  10962.21  10820.04  10949.99  57.888177\n24344 2018-01-17 23:43:00+08:00  10950.01  10958.98  10855.01  10855.03  46.134738\n24345 2018-01-17 23:44:00+08:00  10888.18  10895.11  10830.00  10830.00  26.917398\n24346 2018-01-17 23:45:00+08:00  10830.01  10880.00  10752.00  10800.00  50.463943\n24347 2018-01-17 23:46:00+08:00  10761.00  10800.00  10677.74  10700.00  45.200023\n24348 2018-01-17 23:47:00+08:00  10711.00  10855.07  10700.00  10855.00  77.492080\n24349 2018-01-17 23:48:00+08:00  10840.00  10855.07  10760.00  10799.50  36.071933\n24350 2018-01-17 23:49:00+08:00  10798.03  10881.00  10760.04  10873.18  44.750297\n24351 2018-01-17 23:50:00+08:00  10873.18  10881.00  10811.00  10834.92  37.246980\n24352 2018-01-17 23:51:00+08:00  10801.81  10881.00  10785.89  10879.97  28.357023\n24353 2018-01-17 23:52:00+08:00  10879.98  10887.98  10850.00  10877.98  27.788483\n24354 2018-01-17 23:53:00+08:00  10887.99  11001.10  10877.98  10988.79  42.552402\n24355 2018-01-17 23:54:00+08:00  10972.59  11050.07  10925.56  10950.35  37.411568\n\n[24356 rows x 6 columns]\n"
     ]
    }
   ],
   "source": [
    "\n",
    "#   读取数据库历史数据\n",
    "dt = []\n",
    "o = []\n",
    "h = []\n",
    "l = []\n",
    "c = []\n",
    "v = []\n",
    "\n",
    "for bar in engine.history_data:\n",
    "    dt.append(bar.datetime)\n",
    "    o.append(bar.open_price)\n",
    "    h.append(bar.high_price)\n",
    "    l.append(bar.low_price)\n",
    "    c.append(bar.close_price)\n",
    "    v.append(bar.volume)\n",
    "\n",
    "df = pd.DataFrame()\n",
    "df[\"candle_begin_time\"] = dt\n",
    "df[\"open\"] = o\n",
    "df[\"high\"] = h\n",
    "df[\"low\"] = l\n",
    "df[\"close\"] = c\n",
    "df[\"volume\"] = v\n",
    "print(df)"
   ]
  },
  {
   "cell_type": "code",
   "execution_count": 12,
   "metadata": {
    "tags": []
   },
   "outputs": [
    {
     "output_type": "stream",
     "name": "stdout",
     "text": [
      "                                  instrument direction          offset  trade_price  signal  open_long  open_short  close_long  close_short\ncandle_begin_time                                                                                                                          \nbtcusdt.BINANCE    2018-01-10 00:15:00+08:00     Short   open_position     14020.99      -1        NaN    14020.99         NaN          NaN\nbtcusdt.BINANCE    2018-01-11 04:15:00+08:00      Long  close_position     12390.00       0        NaN         NaN    12390.00          NaN\nbtcusdt.BINANCE    2018-01-11 04:30:00+08:00     Short   open_position     11456.00      -1        NaN    11456.00         NaN          NaN\nbtcusdt.BINANCE    2018-01-13 01:33:00+08:00      Long  close_position     14214.20       0        NaN         NaN    14214.20          NaN\nbtcusdt.BINANCE    2018-01-14 12:02:00+08:00     Short   open_position     13100.20      -1        NaN    13100.20         NaN          NaN\nbtcusdt.BINANCE    2018-01-15 12:32:00+08:00      Long  close_position     13757.00       0        NaN         NaN    13757.00          NaN\nbtcusdt.BINANCE    2018-01-16 00:30:00+08:00     Short   open_position     12979.60      -1        NaN    12979.60         NaN          NaN\nbtcusdt.BINANCE    2018-01-16 09:45:00+08:00      Long  close_position     10650.00       0        NaN         NaN    10650.00          NaN\nbtcusdt.BINANCE    2018-01-16 10:00:00+08:00     Short   open_position     11341.78      -1        NaN    11341.78         NaN          NaN\nbtcusdt.BINANCE    2018-01-16 18:02:00+08:00      Long  close_position     10749.00       0        NaN         NaN    10749.00          NaN\nbtcusdt.BINANCE    2018-01-16 18:15:00+08:00     Short   open_position     10665.00      -1        NaN    10665.00         NaN          NaN\nbtcusdt.BINANCE    2018-01-16 18:30:00+08:00      Long  close_position     10899.07       0        NaN         NaN    10899.07          NaN\nbtcusdt.BINANCE    2018-01-16 18:45:00+08:00     Short   open_position     10829.98      -1        NaN    10829.98         NaN          NaN\nbtcusdt.BINANCE    2018-01-16 20:45:00+08:00      Long  close_position     10620.00       0        NaN         NaN    10620.00          NaN\nbtcusdt.BINANCE    2018-01-16 21:00:00+08:00     Short   open_position     10800.00      -1        NaN    10800.00         NaN          NaN\nbtcusdt.BINANCE    2018-01-16 21:15:00+08:00      Long  close_position     10342.03       0        NaN         NaN    10342.03          NaN\nbtcusdt.BINANCE    2018-01-16 21:30:00+08:00     Short   open_position     10060.00      -1        NaN    10060.00         NaN          NaN\nbtcusdt.BINANCE    2018-01-16 21:45:00+08:00      Long  close_position     10420.00       0        NaN         NaN    10420.00          NaN\nbtcusdt.BINANCE    2018-01-16 22:00:00+08:00     Short   open_position      9863.14      -1        NaN     9863.14         NaN          NaN\nbtcusdt.BINANCE    2018-01-16 22:15:00+08:00      Long  close_position      9418.12       0        NaN         NaN     9418.12          NaN\nbtcusdt.BINANCE    2018-01-16 22:30:00+08:00     Short   open_position      9964.00      -1        NaN     9964.00         NaN          NaN\nbtcusdt.BINANCE    2018-01-16 22:45:00+08:00      Long  close_position     10599.00       0        NaN         NaN    10599.00          NaN\nbtcusdt.BINANCE    2018-01-17 00:45:00+08:00     Short   open_position     10780.69      -1        NaN    10780.69         NaN          NaN\nbtcusdt.BINANCE    2018-01-17 02:00:00+08:00      Long  close_position     10700.00       0        NaN         NaN    10700.00          NaN\nbtcusdt.BINANCE    2018-01-17 02:15:00+08:00     Short   open_position     10786.48      -1        NaN    10786.48         NaN          NaN\nbtcusdt.BINANCE    2018-01-17 02:45:00+08:00      Long  close_position     10380.20       0        NaN         NaN    10380.20          NaN\nbtcusdt.BINANCE    2018-01-17 03:00:00+08:00     Short   open_position     10288.02      -1        NaN    10288.02         NaN          NaN\nbtcusdt.BINANCE    2018-01-17 03:15:00+08:00      Long  close_position      9971.90       0        NaN         NaN     9971.90          NaN\nbtcusdt.BINANCE    2018-01-17 03:30:00+08:00     Short   open_position     10011.10      -1        NaN    10011.10         NaN          NaN\nbtcusdt.BINANCE    2018-01-17 03:52:00+08:00      Long  close_position     10331.40       0        NaN         NaN    10331.40          NaN\n...                                      ...       ...             ...          ...     ...        ...         ...         ...          ...\nbtcusdt.BINANCE    2018-01-17 08:45:00+08:00     Short   open_position     10500.26      -1        NaN    10500.26         NaN          NaN\nbtcusdt.BINANCE    2018-01-17 09:00:00+08:00      Long  close_position     10370.00       0        NaN         NaN    10370.00          NaN\nbtcusdt.BINANCE    2018-01-17 09:15:00+08:00     Short   open_position     10450.38      -1        NaN    10450.38         NaN          NaN\nbtcusdt.BINANCE    2018-01-17 09:30:00+08:00      Long  close_position     10485.01       0        NaN         NaN    10485.01          NaN\nbtcusdt.BINANCE    2018-01-17 09:45:00+08:00     Short   open_position     10049.97      -1        NaN    10049.97         NaN          NaN\nbtcusdt.BINANCE    2018-01-17 10:00:00+08:00      Long  close_position     10186.29       0        NaN         NaN    10186.29          NaN\nbtcusdt.BINANCE    2018-01-17 10:15:00+08:00     Short   open_position     10030.00      -1        NaN    10030.00         NaN          NaN\nbtcusdt.BINANCE    2018-01-17 10:30:00+08:00      Long  close_position      9868.80       0        NaN         NaN     9868.80          NaN\nbtcusdt.BINANCE    2018-01-17 10:45:00+08:00     Short   open_position      9900.02      -1        NaN     9900.02         NaN          NaN\nbtcusdt.BINANCE    2018-01-17 11:00:00+08:00      Long  close_position     10000.00       0        NaN         NaN    10000.00          NaN\nbtcusdt.BINANCE    2018-01-17 11:45:00+08:00     Short   open_position      9737.01      -1        NaN     9737.01         NaN          NaN\nbtcusdt.BINANCE    2018-01-17 12:01:00+08:00      Long  close_position      9841.80       0        NaN         NaN     9841.80          NaN\nbtcusdt.BINANCE    2018-01-17 12:15:00+08:00     Short   open_position      9984.00      -1        NaN     9984.00         NaN          NaN\nbtcusdt.BINANCE    2018-01-17 12:30:00+08:00      Long  close_position     10289.00       0        NaN         NaN    10289.00          NaN\nbtcusdt.BINANCE    2018-01-17 13:30:00+08:00     Short   open_position     10001.00      -1        NaN    10001.00         NaN          NaN\nbtcusdt.BINANCE    2018-01-17 13:45:00+08:00      Long  close_position      9921.06       0        NaN         NaN     9921.06          NaN\nbtcusdt.BINANCE    2018-01-17 14:00:00+08:00     Short   open_position      9669.95      -1        NaN     9669.95         NaN          NaN\nbtcusdt.BINANCE    2018-01-17 14:15:00+08:00      Long  close_position      9493.20       0        NaN         NaN     9493.20          NaN\nbtcusdt.BINANCE    2018-01-17 14:30:00+08:00     Short   open_position      9233.00      -1        NaN     9233.00         NaN          NaN\nbtcusdt.BINANCE    2018-01-17 14:45:00+08:00      Long  close_position      9300.00       0        NaN         NaN     9300.00          NaN\nbtcusdt.BINANCE    2018-01-17 15:00:00+08:00     Short   open_position      9211.05      -1        NaN     9211.05         NaN          NaN\nbtcusdt.BINANCE    2018-01-17 15:15:00+08:00      Long  close_position      9270.00       0        NaN         NaN     9270.00          NaN\nbtcusdt.BINANCE    2018-01-17 15:30:00+08:00     Short   open_position      9263.98      -1        NaN     9263.98         NaN          NaN\nbtcusdt.BINANCE    2018-01-17 15:45:00+08:00      Long  close_position      9446.27       0        NaN         NaN     9446.27          NaN\nbtcusdt.BINANCE    2018-01-17 17:30:00+08:00     Short   open_position      9567.49      -1        NaN     9567.49         NaN          NaN\nbtcusdt.BINANCE    2018-01-17 17:45:00+08:00      Long  close_position      9830.00       0        NaN         NaN     9830.00          NaN\nbtcusdt.BINANCE    2018-01-17 18:00:00+08:00     Short   open_position      9720.01      -1        NaN     9720.01         NaN          NaN\nbtcusdt.BINANCE    2018-01-17 18:15:00+08:00      Long  close_position      9650.00       0        NaN         NaN     9650.00          NaN\nbtcusdt.BINANCE    2018-01-17 18:30:00+08:00     Short   open_position      9779.00      -1        NaN     9779.00         NaN          NaN\nbtcusdt.BINANCE    2018-01-17 18:45:00+08:00      Long  close_position      9738.00       0        NaN         NaN     9738.00          NaN\n\n[70 rows x 9 columns]\n"
     ]
    }
   ],
   "source": [
    "#   获取交易记录明细\n",
    "trades = engine.get_all_trades()\n",
    "trade_records = pd.DataFrame(\n",
    "    columns=['candle_begin_time','instrument',  'direction', 'offset', 'trade_price', 'signal'])\n",
    "i = -1\n",
    "for trade in trades:\n",
    "\n",
    "    i = i + 1\n",
    "    if trade.direction.value == '多':\n",
    "        temp_direction = 'Long'\n",
    "    elif trade.direction.value == '空':\n",
    "        temp_direction = 'Short'\n",
    "    if trade.offset.value == '开':\n",
    "        temp_offset = 'open_position'\n",
    "    elif trade.offset.value == '平':\n",
    "        temp_offset = 'close_position'\n",
    "\n",
    "    if trade.direction.value == '多':\n",
    "        trade_records.loc[i] = [trade.vt_symbol, trade.datetime, temp_direction,\n",
    "                                temp_offset, trade.price, trade.volume]\n",
    "    elif trade.direction.value == '空':\n",
    "        trade_records.loc[i] = [trade.vt_symbol, trade.datetime, temp_direction,\n",
    "                                temp_offset, trade.price, trade.volume]\n",
    "trade_records = trade_records.set_index('candle_begin_time')\n",
    "trade_records['open_long'] = trade_records.apply(\n",
    "    lambda x: x['trade_price'] if x['direction'] == 'Long' and x['offset'] == 'open_position' else math.nan, axis=1)\n",
    "trade_records['open_short'] = trade_records.apply(\n",
    "    lambda x: x['trade_price'] if x['direction'] == 'Short' and x['offset'] == 'open_position' else math.nan,\n",
    "    axis=1)\n",
    "trade_records['close_long'] = trade_records.apply(\n",
    "    lambda x: x['trade_price'] if x['direction'] == 'Long' and x['offset'] == 'close_position' else math.nan,\n",
    "    axis=1)\n",
    "trade_records['close_short'] = trade_records.apply(\n",
    "    lambda x: x['trade_price'] if x['direction'] == 'Short' and x['offset'] == 'close_position' else math.nan,\n",
    "    axis=1)\n",
    "\n",
    "# print(trade_records.head(50))\n",
    "condition1 = trade_records['offset'] == 'open_position'\n",
    "condition2 = trade_records['direction'] == 'Long'\n",
    "trade_records.loc[condition1 & condition2, 'signal'] = 1\n",
    "\n",
    "condition1 = trade_records['offset'] == 'open_position'\n",
    "condition2 = trade_records['direction'] == 'Short'\n",
    "trade_records.loc[condition1 & condition2, 'signal'] = -1\n",
    "\n",
    "condition1 = trade_records['offset'] == 'close_position'\n",
    "trade_records.loc[condition1, 'signal'] = 0\n",
    "\n",
    "\n",
    "print(trade_records)\n",
    "exit()\n",
    "\n"
   ]
  },
  {
   "cell_type": "code",
   "execution_count": 1,
   "metadata": {},
   "outputs": [
    {
     "output_type": "error",
     "ename": "NameError",
     "evalue": "name 'pd' is not defined",
     "traceback": [
      "\u001b[1;31m---------------------------------------------------------------------------\u001b[0m",
      "\u001b[1;31mNameError\u001b[0m                                 Traceback (most recent call last)",
      "\u001b[1;32m<ipython-input-1-b339b2944900>\u001b[0m in \u001b[0;36m<module>\u001b[1;34m\u001b[0m\n\u001b[1;32m----> 1\u001b[1;33m df_merged = pd.merge(\n\u001b[0m\u001b[0;32m      2\u001b[0m     \u001b[0mleft\u001b[0m\u001b[1;33m=\u001b[0m\u001b[0mdf\u001b[0m\u001b[1;33m,\u001b[0m\u001b[1;33m\u001b[0m\u001b[1;33m\u001b[0m\u001b[0m\n\u001b[0;32m      3\u001b[0m     \u001b[0mright\u001b[0m\u001b[1;33m=\u001b[0m\u001b[0mtrade_records\u001b[0m\u001b[1;33m,\u001b[0m\u001b[1;33m\u001b[0m\u001b[1;33m\u001b[0m\u001b[0m\n\u001b[0;32m      4\u001b[0m     \u001b[0mleft_on\u001b[0m\u001b[1;33m=\u001b[0m\u001b[1;34m'candle_begin_time'\u001b[0m\u001b[1;33m,\u001b[0m\u001b[1;33m\u001b[0m\u001b[1;33m\u001b[0m\u001b[0m\n\u001b[0;32m      5\u001b[0m     \u001b[0mright_on\u001b[0m\u001b[1;33m=\u001b[0m\u001b[1;34m'candle_begin_time'\u001b[0m\u001b[1;33m,\u001b[0m\u001b[1;33m\u001b[0m\u001b[1;33m\u001b[0m\u001b[0m\n",
      "\u001b[1;31mNameError\u001b[0m: name 'pd' is not defined"
     ]
    }
   ],
   "source": [
    "df_merged = pd.merge(\n",
    "    left=df,\n",
    "    right=trade_records,\n",
    "    left_on='candle_begin_time',\n",
    "    right_on='candle_begin_time',\n",
    "    suffixes=['_left', '_right'],\n",
    "    how='left',  # 'left', 'right', 'outer' 默认是'inner'\n",
    ")\n",
    "print(df_merged)"
   ]
  },
  {
   "cell_type": "code",
   "execution_count": 2,
   "metadata": {},
   "outputs": [
    {
     "output_type": "error",
     "ename": "NameError",
     "evalue": "name 'df_merged' is not defined",
     "traceback": [
      "\u001b[1;31m---------------------------------------------------------------------------\u001b[0m",
      "\u001b[1;31mNameError\u001b[0m                                 Traceback (most recent call last)",
      "\u001b[1;32m<ipython-input-2-52898765b9d9>\u001b[0m in \u001b[0;36m<module>\u001b[1;34m\u001b[0m\n\u001b[1;32m----> 1\u001b[1;33m \u001b[0mprint\u001b[0m\u001b[1;33m(\u001b[0m\u001b[0mdf_merged\u001b[0m\u001b[1;33m)\u001b[0m\u001b[1;33m\u001b[0m\u001b[1;33m\u001b[0m\u001b[0m\n\u001b[0m",
      "\u001b[1;31mNameError\u001b[0m: name 'df_merged' is not defined"
     ]
    }
   ],
   "source": []
  },
  {
   "cell_type": "code",
   "execution_count": 15,
   "metadata": {
    "tags": []
   },
   "outputs": [],
   "source": []
  },
  {
   "cell_type": "code",
   "execution_count": 16,
   "metadata": {},
   "outputs": [
    {
     "output_type": "stream",
     "name": "stdout",
     "text": [
      "[{'open_dt': datetime.datetime(2018, 1, 10, 0, 21, tzinfo=<DstTzInfo 'Asia/Shanghai' LMT+8:06:00 STD>), 'open_price': 14020.99, 'close_dt': datetime.datetime(2018, 1, 10, 15, 21, tzinfo=<DstTzInfo 'Asia/Shanghai' LMT+8:06:00 STD>), 'close_price': 14086.2, 'direction': <Direction.SHORT: '空'>, 'volume': 1}, {'open_dt': datetime.datetime(2018, 1, 10, 18, 1, tzinfo=<DstTzInfo 'Asia/Shanghai' LMT+8:06:00 STD>), 'open_price': 14607.2, 'close_dt': datetime.datetime(2018, 1, 11, 2, 54, tzinfo=<DstTzInfo 'Asia/Shanghai' LMT+8:06:00 STD>), 'close_price': 14194.8, 'direction': <Direction.LONG: '多'>, 'volume': 1}, {'open_dt': datetime.datetime(2018, 1, 11, 3, 31, tzinfo=<DstTzInfo 'Asia/Shanghai' LMT+8:06:00 STD>), 'open_price': 13412.6, 'close_dt': datetime.datetime(2018, 1, 11, 12, 55, tzinfo=<DstTzInfo 'Asia/Shanghai' LMT+8:06:00 STD>), 'close_price': 13919.2, 'direction': <Direction.SHORT: '空'>, 'volume': 1}, {'open_dt': datetime.datetime(2018, 1, 11, 23, 13, tzinfo=<DstTzInfo 'Asia/Shanghai' LMT+8:06:00 STD>), 'open_price': 12651.6, 'close_dt': datetime.datetime(2018, 1, 12, 2, 21, tzinfo=<DstTzInfo 'Asia/Shanghai' LMT+8:06:00 STD>), 'close_price': 13510.0, 'direction': <Direction.SHORT: '空'>, 'volume': 1}, {'open_dt': datetime.datetime(2018, 1, 13, 0, 50, tzinfo=<DstTzInfo 'Asia/Shanghai' LMT+8:06:00 STD>), 'open_price': 14046.4, 'close_dt': datetime.datetime(2018, 1, 13, 19, 26, tzinfo=<DstTzInfo 'Asia/Shanghai' LMT+8:06:00 STD>), 'close_price': 14149.8, 'direction': <Direction.LONG: '多'>, 'volume': 1}, {'open_dt': datetime.datetime(2018, 1, 14, 4, 21, tzinfo=<DstTzInfo 'Asia/Shanghai' LMT+8:06:00 STD>), 'open_price': 14018.2, 'close_dt': datetime.datetime(2018, 1, 14, 22, 51, tzinfo=<DstTzInfo 'Asia/Shanghai' LMT+8:06:00 STD>), 'close_price': 13400.0, 'direction': <Direction.SHORT: '空'>, 'volume': 1}, {'open_dt': datetime.datetime(2018, 1, 15, 12, 38, tzinfo=<DstTzInfo 'Asia/Shanghai' LMT+8:06:00 STD>), 'open_price': 13760.4, 'close_dt': datetime.datetime(2018, 1, 15, 19, 22, tzinfo=<DstTzInfo 'Asia/Shanghai' LMT+8:06:00 STD>), 'close_price': 13668.0, 'direction': <Direction.LONG: '多'>, 'volume': 1}, {'open_dt': datetime.datetime(2018, 1, 16, 0, 9, tzinfo=<DstTzInfo 'Asia/Shanghai' LMT+8:06:00 STD>), 'open_price': 13273.6, 'close_dt': datetime.datetime(2018, 1, 17, 6, 34, tzinfo=<DstTzInfo 'Asia/Shanghai' LMT+8:06:00 STD>), 'close_price': 11037.4, 'direction': <Direction.SHORT: '空'>, 'volume': 1}, {'open_dt': datetime.datetime(2018, 1, 17, 10, 25, tzinfo=<DstTzInfo 'Asia/Shanghai' LMT+8:06:00 STD>), 'open_price': 9737.8, 'close_dt': datetime.datetime(2018, 1, 17, 16, 59, tzinfo=<DstTzInfo 'Asia/Shanghai' LMT+8:06:00 STD>), 'close_price': 10292.6, 'direction': <Direction.SHORT: '空'>, 'volume': 1}]\n"
     ]
    }
   ],
   "source": []
  },
  {
   "cell_type": "code",
   "execution_count": 0,
   "metadata": {},
   "outputs": [],
   "source": [
    "\n",
    "    "
   ]
  },
  {
   "cell_type": "code",
   "execution_count": null,
   "metadata": {},
   "outputs": [],
   "source": []
  }
 ]
}